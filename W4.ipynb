{
 "cells": [
  {
   "cell_type": "markdown",
   "metadata": {},
   "source": [
    "# Applied Data Science Capstone - W4\n"
   ]
  },
  {
   "cell_type": "markdown",
   "metadata": {},
   "source": [
    "## Introduction/Business Problem"
   ]
  },
  {
   "cell_type": "markdown",
   "metadata": {},
   "source": [
    "The hypothetical scenario is that there is that an entrepreneur wants to create and open an Indian restaurant in the Toronto Area. In this scenario, there is a lack of Indian restaurants in the area and the business owner believes there is a chance for considerable profit. With this scenario, finding the specific location to open the restaurant is crucial. This project aims to solve this problem by finding the area in Toronto with the least amount of Indian restaurants"
   ]
  },
  {
   "cell_type": "markdown",
   "metadata": {},
   "source": [
    "## Data"
   ]
  },
  {
   "cell_type": "markdown",
   "metadata": {},
   "source": [
    "To solve this problem, I need the follow data:\n",
    "    - List of neighborhoods in Toronto, CA\n",
    "    - The geographic location of these neighborhoods\n",
    "    - Data that shows where Indian restaurants currently exist\n",
    "    \n",
    "I will find the neighborhoods by scraping the Wikipedia page for Toronto. The geographic locations of these neighborhoods can be found using the importable Geocoder package. Finally, the venue data can be found using the Foursquare API, which we already have credentialed access to. \n",
    "\n",
    "In addition, to accurately represent data, I will need to use the following tools:\n",
    "    - Nominatin\n",
    "    - Folium mapping\n",
    "    \n",
    "These tools can easily be downloaded, imported and utilized using a"
   ]
  },
  {
   "cell_type": "code",
   "execution_count": null,
   "metadata": {},
   "outputs": [],
   "source": []
  }
 ],
 "metadata": {
  "kernelspec": {
   "display_name": "Python 3",
   "language": "python",
   "name": "python3"
  },
  "language_info": {
   "codemirror_mode": {
    "name": "ipython",
    "version": 3
   },
   "file_extension": ".py",
   "mimetype": "text/x-python",
   "name": "python",
   "nbconvert_exporter": "python",
   "pygments_lexer": "ipython3",
   "version": "3.7.6"
  }
 },
 "nbformat": 4,
 "nbformat_minor": 4
}
