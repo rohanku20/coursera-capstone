{
 "cells": [
  {
   "cell_type": "markdown",
   "metadata": {},
   "source": [
    "# Applied Data Science Capstone - W4\n"
   ]
  },
  {
   "cell_type": "markdown",
   "metadata": {},
   "source": [
    "## 1 Introduction\n",
    "\n",
    "### 1.1 Business Problem\n",
    "The hypothetical scenario is that there is that an entrepreneur wants to create and open an Indian restaurant in the Toronto Area. In this scenario, there is a lack of Indian restaurants in the area and the business owner believes there is a chance for considerable profit. With this scenario, finding the specific location to open the restaurant is crucial. This project aims to solve this problem by finding the area in Toronto with the least amount of Indian restaurants\n",
    "\n",
    "### 1.2 Target Audience\n",
    "The target audience for this is any entrepreneur in the restaurant industry, specifically people wishing to create and run a profitable Indian restaurant\n",
    "\n",
    "## 2 Data\n",
    "\n",
    "### 2.1 Data Description\n",
    "To solve this problem, I need the follow data:\n",
    "\n",
    "    - List of neighborhoods in Toronto, CA\n",
    "    - The geographic location of these neighborhoods\n",
    "    - Data that shows where Indian restaurants currently exist\n",
    "      \n",
    "### 2.2 Data Sources\n",
    "The sources for this data, respectively, are:\n",
    "    - Wikipedia\n",
    "    - The importable Geocoder package\n",
    "    - FourSquare API\n",
    "  \n",
    "In addition, to accurately represent data, I will need to use the following tools:\n",
    "    - Nominatin\n",
    "    - Folium mapping\n",
    "    \n",
    "These tools can easily be downloaded, imported and utilized in any Python environment, including Anaconda, which is what I will be using for the project.\n",
    "\n",
    "## 3 Methodology\n",
    "\n",
    "### 3.1 Exploratory Analysis\n",
    "The exploratory analysis of the dataset was mostly in the first few sections of the codebase. Specifically, creating the initial dataframe, understanding the shape and scope of the data (identifying the size and potential problems within the data) and subsequently cleaning the data. In addition, I created an initial map of the boroughs and neighborhoods of Toronto using Folium that provided an initial understanding of the data.\n",
    "\n",
    "### 3.2 Machine Learnings\n",
    "The main tool for much of the analysis was K-Means Clustering, which is a machine learning algorithm designed to partition 'x' observations into 'y' clusters based on similarity of attributes, which in this case was location. In the project, I used K-Means Clustering to split the existing Indian restaurants into 3 clusters based on their location - Clusters 0, 1 and 2. Then, based on the amount of Indian restaurants in each cluster, I located the optimal cluster and neighborhoods to open a new restaurant\n",
    "\n",
    "## 4 Results\n",
    "\n",
    "### 4.1 Cluster Results\n",
    "The project identified Indian restaurants in Toronto, clustered them into 3 sections based on location and then explained which cluster had the least restaurants and thus, the best opportunities. The results were as follows: \n",
    "    - Cluster 0: 8 Indian restaurants\n",
    "    - Cluster 1: 0 Indian restaurants\n",
    "    - Cluster 2: 1 Indian restaurant\n",
    "    \n",
    "Obviously, Cluster 1 has the lowest number of Indian restaurants, followed by Cluster 2 then Cluster 0 with the most.\n",
    "    \n",
    "## 5 Discussions\n",
    "\n",
    "### 5.1 Recommendations\n",
    "The project identified that the market for Indian restaurants in the neighborhoods of Cluster 0 was saturated (8 restaurants). As such, it is unlikely that a new restaurant in those areas would be particularly successful. The other two clusters both had extremely low numbers. \n",
    "\n",
    "Opening an Indian restaurant in either of the two remaining clusters has its pros and cons. For Cluster 1, there is no Indian restaurants in the area, so competition would be non-existent which is a significant pro. However, this may mean that the clientele of the area does not favor Indian food which would be a significant con. For Cluster 2, there is 1 Indian restaurant, so there is some competition in the area. However, the existence of 1 successful restaurant does guarantee that some people in the area like Indian food. \n",
    "\n",
    "All things considered, I would encourage the restauranteur to make his restaurant in Cluster 1, which is the neighborhoods of Brockton, Parkdale Village, the CN Tower, King and Spandia and several others.\n",
    "\n",
    "## 6 Conclusions\n",
    "\n",
    "### 6.1 Conclusion\n",
    "In this study, I analyzed the geographic locations of Indian restaurants in specific boroughs of Toronto. The purpose was to find the optimal location for a new Indian restaurant. The method was to scrape the Wikipedia page for Toronto to create an initial dataframe, then to clean and modify the dataframe to ready it for analysis. Then, I used the Foursquare API to find the Indian restaurants in the boroughs, then used machine learning clustering techniques to group the restaurants by location into three clusters. Finally, I interpreted the number of restaurants in each cluster to mean the competition that a new place would find in the market. This lead me to recommend that Cluster 1 (Brocktown, Parkdale Village etc) is the optimal place for a new authentic Indian restaurant. \n",
    "\n",
    "### 6.2 Further Directions\n",
    "This report focused only on the competition of nearby restaurants. It could be improved if there was significant market research done on the tastes of residents in each individual neighborhood, specifically whether they liked Indian food. If "
   ]
  },
  {
   "cell_type": "code",
   "execution_count": null,
   "metadata": {},
   "outputs": [],
   "source": []
  }
 ],
 "metadata": {
  "kernelspec": {
   "display_name": "Python 3",
   "language": "python",
   "name": "python3"
  },
  "language_info": {
   "codemirror_mode": {
    "name": "ipython",
    "version": 3
   },
   "file_extension": ".py",
   "mimetype": "text/x-python",
   "name": "python",
   "nbconvert_exporter": "python",
   "pygments_lexer": "ipython3",
   "version": "3.7.6"
  }
 },
 "nbformat": 4,
 "nbformat_minor": 4
}
